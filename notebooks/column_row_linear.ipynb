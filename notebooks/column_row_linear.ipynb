{
 "cells": [
  {
   "cell_type": "markdown",
   "id": "edc174ab-9ce8-45c9-a582-43480767dc75",
   "metadata": {},
   "source": [
    "There are two ways a linear layer can be split up across GPUs: row-wise or column-wise"
   ]
  },
  {
   "cell_type": "code",
   "execution_count": 5,
   "id": "55d4c750-2a94-4e68-b903-b07a641e71f5",
   "metadata": {},
   "outputs": [],
   "source": [
    "import torch; torch.manual_seed(42)\n",
    "from torch.nn.functional import gelu"
   ]
  },
  {
   "attachments": {},
   "cell_type": "markdown",
   "id": "e0cb7e95-40ce-4de7-9a6f-e9882205d8b9",
   "metadata": {},
   "source": [
    "<img src=\"pics/matmul.png\" height=200 width=400>"
   ]
  },
  {
   "cell_type": "code",
   "execution_count": 6,
   "id": "95f2110b-3b2b-48f4-8266-6741cbc84924",
   "metadata": {},
   "outputs": [
    {
     "name": "stdout",
     "output_type": "stream",
     "text": [
      "Baseline\n"
     ]
    },
    {
     "data": {
      "text/plain": [
       "tensor([[0.5324, 0.2612, 0.0106, 0.7086],\n",
       "        [1.1399, 2.8075, 1.8650, 1.5034]])"
      ]
     },
     "execution_count": 6,
     "metadata": {},
     "output_type": "execute_result"
    }
   ],
   "source": [
    "X = torch.randn(2, 4, device=\"cpu\", dtype=torch.float32)\n",
    "W = torch.randn(4, 4, device=\"cpu\", dtype=torch.float32)\n",
    "\n",
    "y = gelu(X @ W)\n",
    "\n",
    "print(\"Baseline\")\n",
    "y"
   ]
  },
  {
   "cell_type": "markdown",
   "id": "71248eb4-81fa-48ce-90f9-64dc53a2a369",
   "metadata": {},
   "source": [
    "<img src=\"pics/column_wise_parallel.png\" height=300 width=600>\n",
    "\n",
    "W is split horizontally (dim=1) and the outputs of the separate matmuls is concatenated (all_gather) along that same dimension horizontally (dim=1)"
   ]
  },
  {
   "cell_type": "code",
   "execution_count": 7,
   "id": "9c981ec0-e821-4416-8e5a-e3dd49561b4b",
   "metadata": {},
   "outputs": [
    {
     "name": "stdout",
     "output_type": "stream",
     "text": [
      "Column linear match\n"
     ]
    },
    {
     "data": {
      "text/plain": [
       "tensor([[0.5324, 0.2612, 0.0106, 0.7086],\n",
       "        [1.1399, 2.8075, 1.8650, 1.5034]])"
      ]
     },
     "execution_count": 7,
     "metadata": {},
     "output_type": "execute_result"
    }
   ],
   "source": [
    "# Column linear\n",
    "\n",
    "W_0, W_1 = W.chunk(2, dim=1) # W is split horizontally (dim=1)\n",
    "\n",
    "y_col_1 = torch.cat([gelu(X @ W_0), gelu(X @ W_1)], dim=1) # concatenate after the nonlinearity\n",
    "\n",
    "y_col_2 = gelu(torch.cat([X @ W_0, X @ W_1], dim=1)) # concatenate before the nonlinearity\n",
    "\n",
    "try:\n",
    "    torch.testing.assert_close(y_col_1, y_col_2, rtol=1e-5, atol=1e-5)\n",
    "    col_match = True\n",
    "    print(\"Column linear match\")\n",
    "except AssertionError:\n",
    "    col_match = False\n",
    "    print(\"Column linear mismatch\")\n",
    "\n",
    "y_col_2"
   ]
  },
  {
   "cell_type": "markdown",
   "id": "583e8648-2a4e-4ad1-ab2d-0e38d46e9985",
   "metadata": {},
   "source": [
    "<img src=\"pics/row_wise_parallel.png\" height=350 width=700>\n",
    "\n",
    "X is split horizontally (dim=1) and W is split vertically (dim=0). There is no concatenation step but rather a elementwise addition (all_reduce) step at the end. "
   ]
  },
  {
   "cell_type": "code",
   "execution_count": 8,
   "id": "e9162864-7d7f-4ed9-95dc-ca079c86267d",
   "metadata": {},
   "outputs": [
    {
     "name": "stdout",
     "output_type": "stream",
     "text": [
      "Row linear mismatch\n",
      "tensor([[0.4549, 0.2409, 0.0150, 0.5894],\n",
      "        [2.8925, 2.8190, 1.6791, 2.2097]]) \n",
      "\n",
      " tensor([[0.5324, 0.2612, 0.0106, 0.7086],\n",
      "        [1.1399, 2.8075, 1.8650, 1.5034]])\n"
     ]
    }
   ],
   "source": [
    "# Row linear\n",
    "\n",
    "X_0, X_1 = X.chunk(2, dim=1) # X is split horizontally (dim=1)\n",
    "W_0, W_1 = W.chunk(2, dim=0) # W is split vertically (dim=0)\n",
    "\n",
    "y_row_1 = gelu(X_0 @ W_0) + gelu(X_1 @ W_1) # element-wise addtion after the nonlinearity\n",
    "y_row_2 = gelu(X_0 @ W_0 + X_1 @ W_1) # element-wise addtion before the nonlinearity\n",
    "\n",
    "try:\n",
    "    torch.testing.assert_close(y_row_1, y_row_2, rtol=1e-5, atol=1e-5)\n",
    "    col_match = True\n",
    "    print(\"Row linear match\")\n",
    "except AssertionError:\n",
    "    col_match = False\n",
    "    print(\"Row linear mismatch\")\n",
    "\n",
    "print(y_row_1, \"\\n\\n\", y_row_2)"
   ]
  },
  {
   "cell_type": "markdown",
   "id": "00d3480a-5389-4368-a20b-7ee70d6e5de7",
   "metadata": {},
   "source": [
    "Because the the activation function is non-linear, `f(a) + f(b) != f(a+b)`"
   ]
  },
  {
   "cell_type": "code",
   "execution_count": null,
   "id": "29f0f5cf-5ceb-4921-be80-84731852c4b7",
   "metadata": {},
   "outputs": [],
   "source": []
  }
 ],
 "metadata": {
  "kernelspec": {
   "display_name": "Python 3 (ipykernel)",
   "language": "python",
   "name": "python3"
  },
  "language_info": {
   "codemirror_mode": {
    "name": "ipython",
    "version": 3
   },
   "file_extension": ".py",
   "mimetype": "text/x-python",
   "name": "python",
   "nbconvert_exporter": "python",
   "pygments_lexer": "ipython3",
   "version": "3.10.16"
  }
 },
 "nbformat": 4,
 "nbformat_minor": 5
}
