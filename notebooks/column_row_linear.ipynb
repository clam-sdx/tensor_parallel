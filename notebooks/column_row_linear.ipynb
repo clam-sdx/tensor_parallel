{
 "cells": [
  {
   "cell_type": "code",
   "execution_count": 2,
   "id": "55d4c750-2a94-4e68-b903-b07a641e71f5",
   "metadata": {},
   "outputs": [],
   "source": [
    "import torch\n",
    "from torch.nn.functional import gelu"
   ]
  },
  {
   "cell_type": "code",
   "execution_count": 14,
   "id": "95f2110b-3b2b-48f4-8266-6741cbc84924",
   "metadata": {},
   "outputs": [],
   "source": [
    "X = torch.randn(4, 2, device=\"cpu\", dtype=torch.float32)\n",
    "W = torch.randn(2, 2, device=\"cpu\", dtype=torch.float32)"
   ]
  },
  {
   "cell_type": "code",
   "execution_count": 15,
   "id": "9c981ec0-e821-4416-8e5a-e3dd49561b4b",
   "metadata": {},
   "outputs": [
    {
     "name": "stdout",
     "output_type": "stream",
     "text": [
      "Column linear match\n"
     ]
    },
    {
     "data": {
      "text/plain": [
       "tensor([[ 0.0814, -0.1499],\n",
       "        [ 0.2147,  0.5063],\n",
       "        [ 0.1975,  1.6052],\n",
       "        [-0.1621,  1.0192]])"
      ]
     },
     "execution_count": 15,
     "metadata": {},
     "output_type": "execute_result"
    }
   ],
   "source": [
    "# Column linear\n",
    "\n",
    "W_0, W_1 = W.chunk(2, dim=1)\n",
    "\n",
    "y_col_1 = torch.cat([gelu(X @ W_0), gelu(X @ W_1)], dim=1)\n",
    "\n",
    "y_col_2 = gelu(torch.cat([X @ W_0, X @ W_1], dim=1))\n",
    "\n",
    "try:\n",
    "    torch.testing.assert_close(y_col_1, y_col_2, rtol=1e-5, atol=1e-5)\n",
    "    col_match = True\n",
    "    print(\"Column linear match\")\n",
    "except AssertionError:\n",
    "    col_match = False\n",
    "    print(\"Column linear mismatch\")\n",
    "\n",
    "y_col_1"
   ]
  },
  {
   "cell_type": "code",
   "execution_count": 16,
   "id": "e9162864-7d7f-4ed9-95dc-ca079c86267d",
   "metadata": {},
   "outputs": [
    {
     "name": "stdout",
     "output_type": "stream",
     "text": [
      "Row linear mismatch\n"
     ]
    },
    {
     "data": {
      "text/plain": [
       "tensor([[ 0.0847, -0.1884],\n",
       "        [ 0.1931,  0.7320],\n",
       "        [ 0.1850,  1.6781],\n",
       "        [-0.1535,  0.9404]])"
      ]
     },
     "execution_count": 16,
     "metadata": {},
     "output_type": "execute_result"
    }
   ],
   "source": [
    "# Row linear\n",
    "\n",
    "X_0, X_1 = X.chunk(2, dim=1)\n",
    "W_0, W_1 = W.chunk(2, dim=0)\n",
    "\n",
    "y_row_1 = gelu(X_0 @ W_0) + gelu(X_1 @ W_1)\n",
    "y_row_2 = gelu(X_0 @ W_0 + X_1 @ W_1)\n",
    "\n",
    "try:\n",
    "    torch.testing.assert_close(y_row_1, y_row_2, rtol=1e-5, atol=1e-5)\n",
    "    col_match = True\n",
    "    print(\"Row linear match\")\n",
    "except AssertionError:\n",
    "    col_match = False\n",
    "    print(\"Row linear mismatch\")\n",
    "\n",
    "y_row_1"
   ]
  },
  {
   "cell_type": "code",
   "execution_count": null,
   "id": "ff2418c7-59a8-445f-9ba9-6ebed90831ac",
   "metadata": {},
   "outputs": [],
   "source": []
  }
 ],
 "metadata": {
  "kernelspec": {
   "display_name": "Python 3 (ipykernel)",
   "language": "python",
   "name": "python3"
  },
  "language_info": {
   "codemirror_mode": {
    "name": "ipython",
    "version": 3
   },
   "file_extension": ".py",
   "mimetype": "text/x-python",
   "name": "python",
   "nbconvert_exporter": "python",
   "pygments_lexer": "ipython3",
   "version": "3.10.16"
  }
 },
 "nbformat": 4,
 "nbformat_minor": 5
}
