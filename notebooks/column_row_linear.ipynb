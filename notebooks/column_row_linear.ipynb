{
 "cells": [
  {
   "cell_type": "code",
   "execution_count": 38,
   "id": "55d4c750-2a94-4e68-b903-b07a641e71f5",
   "metadata": {},
   "outputs": [],
   "source": [
    "import torch; torch.manual_seed(42)\n",
    "from torch.nn.functional import gelu"
   ]
  },
  {
   "cell_type": "code",
   "execution_count": 39,
   "id": "95f2110b-3b2b-48f4-8266-6741cbc84924",
   "metadata": {},
   "outputs": [
    {
     "data": {
      "text/plain": [
       "tensor([[ 0.1321,  0.1121],\n",
       "        [ 0.1369,  0.1491],\n",
       "        [-0.1658, -0.1470],\n",
       "        [ 0.5094,  0.0392]])"
      ]
     },
     "execution_count": 39,
     "metadata": {},
     "output_type": "execute_result"
    }
   ],
   "source": [
    "X = torch.randn(4, 2, device=\"cpu\", dtype=torch.float32)\n",
    "W = torch.randn(2, 2, device=\"cpu\", dtype=torch.float32)\n",
    "gelu(X @ W)"
   ]
  },
  {
   "cell_type": "code",
   "execution_count": 40,
   "id": "9c981ec0-e821-4416-8e5a-e3dd49561b4b",
   "metadata": {},
   "outputs": [
    {
     "name": "stdout",
     "output_type": "stream",
     "text": [
      "Column linear match\n"
     ]
    },
    {
     "data": {
      "text/plain": [
       "tensor([[ 0.1321,  0.1121],\n",
       "        [ 0.1369,  0.1491],\n",
       "        [-0.1658, -0.1470],\n",
       "        [ 0.5094,  0.0392]])"
      ]
     },
     "execution_count": 40,
     "metadata": {},
     "output_type": "execute_result"
    }
   ],
   "source": [
    "# Column linear\n",
    "\n",
    "W_0, W_1 = W.chunk(2, dim=1)\n",
    "\n",
    "y_col_1 = torch.cat([gelu(X @ W_0), gelu(X @ W_1)], dim=1)\n",
    "\n",
    "y_col_2 = gelu(torch.cat([X @ W_0, X @ W_1], dim=1))\n",
    "\n",
    "try:\n",
    "    torch.testing.assert_close(y_col_1, y_col_2, rtol=1e-5, atol=1e-5)\n",
    "    col_match = True\n",
    "    print(\"Column linear match\")\n",
    "except AssertionError:\n",
    "    col_match = False\n",
    "    print(\"Column linear mismatch\")\n",
    "\n",
    "y_col_2"
   ]
  },
  {
   "cell_type": "code",
   "execution_count": 41,
   "id": "e9162864-7d7f-4ed9-95dc-ca079c86267d",
   "metadata": {},
   "outputs": [
    {
     "name": "stdout",
     "output_type": "stream",
     "text": [
      "Row linear mismatch\n",
      "tensor([[ 0.1237,  0.1047],\n",
      "        [ 0.1264,  0.1399],\n",
      "        [-0.2025, -0.1810],\n",
      "        [ 0.7374,  0.2702]]) \n",
      "\n",
      " tensor([[ 0.1321,  0.1121],\n",
      "        [ 0.1369,  0.1491],\n",
      "        [-0.1658, -0.1470],\n",
      "        [ 0.5094,  0.0392]])\n"
     ]
    }
   ],
   "source": [
    "# Row linear\n",
    "\n",
    "X_0, X_1 = X.chunk(2, dim=1)\n",
    "W_0, W_1 = W.chunk(2, dim=0)\n",
    "\n",
    "y_row_1 = gelu(X_0 @ W_0) + gelu(X_1 @ W_1)\n",
    "y_row_2 = gelu(X_0 @ W_0 + X_1 @ W_1)\n",
    "\n",
    "try:\n",
    "    torch.testing.assert_close(y_row_1, y_row_2, rtol=1e-5, atol=1e-5)\n",
    "    col_match = True\n",
    "    print(\"Row linear match\")\n",
    "except AssertionError:\n",
    "    col_match = False\n",
    "    print(\"Row linear mismatch\")\n",
    "\n",
    "print(y_row_1, \"\\n\\n\", y_row_2)"
   ]
  },
  {
   "cell_type": "code",
   "execution_count": null,
   "id": "ff2418c7-59a8-445f-9ba9-6ebed90831ac",
   "metadata": {},
   "outputs": [],
   "source": []
  },
  {
   "cell_type": "code",
   "execution_count": null,
   "id": "29f0f5cf-5ceb-4921-be80-84731852c4b7",
   "metadata": {},
   "outputs": [],
   "source": []
  }
 ],
 "metadata": {
  "kernelspec": {
   "display_name": "Python 3 (ipykernel)",
   "language": "python",
   "name": "python3"
  },
  "language_info": {
   "codemirror_mode": {
    "name": "ipython",
    "version": 3
   },
   "file_extension": ".py",
   "mimetype": "text/x-python",
   "name": "python",
   "nbconvert_exporter": "python",
   "pygments_lexer": "ipython3",
   "version": "3.10.16"
  }
 },
 "nbformat": 4,
 "nbformat_minor": 5
}
